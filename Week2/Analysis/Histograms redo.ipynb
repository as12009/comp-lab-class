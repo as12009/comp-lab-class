{
 "cells": [
  {
   "cell_type": "code",
   "execution_count": 1,
   "metadata": {},
   "outputs": [],
   "source": [
    "import numpy as np\n",
    "import matplotlib.pyplot as plt\n",
    "#load mdtraj\n",
    "import mdtraj as md"
   ]
  },
  {
   "cell_type": "code",
   "execution_count": 2,
   "metadata": {},
   "outputs": [],
   "source": [
    "#read the md trajectory of beta amyloid\n",
    "traj= md.load('comp-lab-class/Week2/Data/1hz3_T310.stepid25000000.every100ps.nowater.xtc', top='comp-lab-class/Week2/Data/1hz3_T310.start.nowater.gro')"
   ]
  },
  {
   "cell_type": "code",
   "execution_count": 3,
   "metadata": {},
   "outputs": [
    {
     "name": "stdout",
     "output_type": "stream",
     "text": [
      "[[2.4080002]\n",
      " [2.294153 ]\n",
      " [2.4405324]\n",
      " [2.3514538]\n",
      " [2.8238873]\n",
      " [3.2521365]\n",
      " [2.9046328]\n",
      " [2.9567354]\n",
      " [2.701679 ]\n",
      " [3.8322136]\n",
      " [2.6434433]\n",
      " [3.0369773]\n",
      " [2.1477714]\n",
      " [2.0729964]\n",
      " [2.562689 ]\n",
      " [2.211393 ]\n",
      " [2.233543 ]]\n"
     ]
    }
   ],
   "source": [
    "#compute the end-to-end distance at each frame\n",
    "end_to_end = md.compute_distances(traj, [[0, traj.n_atoms-1]])\n",
    "print(end_to_end)"
   ]
  },
  {
   "cell_type": "code",
   "execution_count": 4,
   "metadata": {},
   "outputs": [
    {
     "name": "stdout",
     "output_type": "stream",
     "text": [
      "[0.85057444 1.00091706 1.00509146 0.9700538  1.03096215 1.08965024\n",
      " 1.06154491 1.01728751 1.0467843  1.25890696 1.03388204 1.18969875\n",
      " 1.03686539 1.03002704 1.00622438 1.02566947 1.03948413]\n"
     ]
    }
   ],
   "source": [
    "#compute the radius of gyration at each frame\n",
    "radius_of_gyration = md.compute_rg(traj)\n",
    "print(radius_of_gyration)"
   ]
  },
  {
   "cell_type": "code",
   "execution_count": 6,
   "metadata": {},
   "outputs": [],
   "source": [
    "# plot a normalized histogram of end-end distance \n",
    "# normalize end-end distance\n",
    "import matplotlib.pyplot as plt"
   ]
  },
  {
   "cell_type": "code",
   "execution_count": 9,
   "metadata": {},
   "outputs": [
    {
     "data": {
      "text/plain": [
       "Text(0.5, 1.0, 'normalized end-end distance')"
      ]
     },
     "execution_count": 9,
     "metadata": {},
     "output_type": "execute_result"
    },
    {
     "data": {
      "image/png": "[encoded data removed]",
      "text/plain": [
       "<Figure size 432x288 with 1 Axes>"
      ]
     },
     "metadata": {
      "needs_background": "light"
     },
     "output_type": "display_data"
    }
   ],
   "source": [
    "fig, ax = plt.subplots() # Instantiate figure and axes object\n",
    "ax.hist(radius_of_gyration, label=\"Radius of Gyration\", histtype=\"step\", density=True) # Plot histogram of nums1\n",
    "plt.xlabel('end-end distance')\n",
    "plt.ylabel('number')\n",
    "plt.title('normalized end-end distance')"
   ]
  },
  {
   "cell_type": "code",
   "execution_count": 15,
   "metadata": {},
   "outputs": [
    {
     "data": {
      "text/plain": [
       "Text(0.5, 1.0, 'radius of gyration')"
      ]
     },
     "execution_count": 15,
     "metadata": {},
     "output_type": "execute_result"
    },
    {
     "data": {
      "image/png": "[encoded data removed]",
      "text/plain": [
       "<Figure size 432x288 with 1 Axes>"
      ]
     },
     "metadata": {
      "needs_background": "light"
     },
     "output_type": "display_data"
    }
   ],
   "source": [
    "fig, ax = plt.subplots() # Instantiate figure and axes object\n",
    "ax.hist(end_to_end, label=\"radius of gyration\", histtype=\"step\", density=True) # Plot histogram of nums2\n",
    "plt.xlabel('radius of gyration')\n",
    "plt.ylabel('number')\n",
    "plt.title('radius of gyration')"
   ]
  },
  {
   "cell_type": "code",
   "execution_count": null,
   "metadata": {},
   "outputs": [],
   "source": []
  }
 ],
 "metadata": {
  "kernelspec": {
   "display_name": "Python 3",
   "language": "python",
   "name": "python3"
  },
  "language_info": {
   "codemirror_mode": {
    "name": "ipython",
    "version": 3
   },
   "file_extension": ".py",
   "mimetype": "text/x-python",
   "name": "python",
   "nbconvert_exporter": "python",
   "pygments_lexer": "ipython3",
   "version": "3.8.6"
  }
 },
 "nbformat": 4,
 "nbformat_minor": 4
}
