{
 "cells": [
  {
   "cell_type": "code",
   "execution_count": 2,
   "metadata": {},
   "outputs": [
    {
     "name": "stdout",
     "output_type": "stream",
     "text": [
      "Defaulting to user installation because normal site-packages is not writeable\n",
      "Collecting mdtraj\n",
      "  Downloading mdtraj-1.9.7.tar.gz (2.1 MB)\n",
      "\u001b[K     |████████████████████████████████| 2.1 MB 33.8 MB/s eta 0:00:01\n",
      "\u001b[?25h  Installing build dependencies ... \u001b[?25ldone\n",
      "\u001b[?25h  Getting requirements to build wheel ... \u001b[?25ldone\n",
      "\u001b[?25h    Preparing wheel metadata ... \u001b[?25ldone\n",
      "\u001b[?25hRequirement already satisfied: pyparsing in /share/apps/python/3.8.6/intel/lib/python3.8/site-packages (from mdtraj) (2.4.7)\n",
      "Requirement already satisfied: numpy>=1.6 in /share/apps/python/3.8.6/intel/lib/python3.8/site-packages/numpy-1.19.2-py3.8-linux-x86_64.egg (from mdtraj) (1.19.2)\n",
      "Requirement already satisfied: scipy in /share/apps/python/3.8.6/intel/lib/python3.8/site-packages/scipy-1.5.2-py3.8-linux-x86_64.egg (from mdtraj) (1.5.2)\n",
      "Collecting astunparse\n",
      "  Downloading astunparse-1.6.3-py2.py3-none-any.whl (12 kB)\n",
      "Requirement already satisfied: six<2.0,>=1.6.1 in /share/apps/python/3.8.6/intel/lib/python3.8/site-packages (from astunparse->mdtraj) (1.15.0)\n",
      "Requirement already satisfied: wheel<1.0,>=0.23.0 in /share/apps/python/3.8.6/intel/lib/python3.8/site-packages (from astunparse->mdtraj) (0.35.1)\n",
      "Building wheels for collected packages: mdtraj\n",
      "  Building wheel for mdtraj (PEP 517) ... \u001b[?25ldone\n",
      "\u001b[?25h  Created wheel for mdtraj: filename=mdtraj-1.9.7-cp38-cp38-linux_x86_64.whl size=7785090 sha256=bab53cec475876ff1ecef01bac3ef0bd631f9a748d12e3ef21f0884338b75731\n",
      "  Stored in directory: /home/as12009/.cache/pip/wheels/68/ff/96/5d9a2efac5e5918e5c8fd799e8703e2f8b804a029bcbbd2431\n",
      "Successfully built mdtraj\n",
      "Installing collected packages: astunparse, mdtraj\n",
      "Successfully installed astunparse-1.6.3 mdtraj-1.9.7\n",
      "\u001b[33mWARNING: You are using pip version 20.2.3; however, version 22.2.2 is available.\n",
      "You should consider upgrading via the '/share/apps/python/3.8.6/intel/bin/python -m pip install --upgrade pip' command.\u001b[0m\n",
      "Note: you may need to restart the kernel to use updated packages.\n"
     ]
    }
   ],
   "source": [
    "pip install mdtraj"
   ]
  },
  {
   "cell_type": "code",
   "execution_count": 5,
   "metadata": {},
   "outputs": [
    {
     "name": "stdout",
     "output_type": "stream",
     "text": [
      "Cloning into 'mdtraj'...\n",
      "remote: Enumerating objects: 18368, done.\u001b[K\n",
      "remote: Counting objects: 100% (492/492), done.\u001b[K\n",
      "remote: Compressing objects: 100% (309/309), done.\u001b[K\n",
      "remote: Total 18368 (delta 271), reused 342 (delta 168), pack-reused 17876\u001b[K\n",
      "Receiving objects: 100% (18368/18368), 31.72 MiB | 35.38 MiB/s, done.\n",
      "Resolving deltas: 100% (12699/12699), done.\n",
      "Updating files: 100% (499/499), done.\n",
      "\n",
      "Usage:   \n",
      "  pip install [options] <requirement specifier> [package-index-options] ...\n",
      "  pip install [options] -r <requirements file> [package-index-options] ...\n",
      "  pip install [options] [-e] <vcs project url> ...\n",
      "  pip install [options] [-e] <local project path> ...\n",
      "  pip install [options] <archive url/path> ...\n",
      "\n",
      "-e option requires 1 argument\n"
     ]
    }
   ],
   "source": [
    "!git clone https://github.com/mdtraj/mdtraj\n",
    "!cd mdtraj\n",
    "!pip install -e"
   ]
  },
  {
   "cell_type": "code",
   "execution_count": 3,
   "metadata": {},
   "outputs": [
    {
     "name": "stdout",
     "output_type": "stream",
     "text": [
      "Defaulting to user installation because normal site-packages is not writeable\n",
      "Requirement already satisfied: mdtraj in /ext3/miniconda3/lib/python3.9/site-packages (1.9.7)\n",
      "Requirement already satisfied: scipy in /ext3/miniconda3/lib/python3.9/site-packages (from mdtraj) (1.8.1)\n",
      "Requirement already satisfied: pyparsing in /ext3/miniconda3/lib/python3.9/site-packages (from mdtraj) (3.0.9)\n",
      "Requirement already satisfied: numpy>=1.6 in /ext3/miniconda3/lib/python3.9/site-packages (from mdtraj) (1.22.3)\n",
      "Requirement already satisfied: astunparse in /ext3/miniconda3/lib/python3.9/site-packages (from mdtraj) (1.6.3)\n",
      "Requirement already satisfied: wheel<1.0,>=0.23.0 in /ext3/miniconda3/lib/python3.9/site-packages (from astunparse->mdtraj) (0.37.1)\n",
      "Requirement already satisfied: six<2.0,>=1.6.1 in /ext3/miniconda3/lib/python3.9/site-packages (from astunparse->mdtraj) (1.16.0)\n",
      "Note: you may need to restart the kernel to use updated packages.\n"
     ]
    }
   ],
   "source": [
    "# install mdtraj\n",
    "%pip install mdtraj\n",
    "import mdtraj as md\n",
    "import numpy as np\n",
    "import matplotlib.pyplot as plt\n",
    "import seaborn as sns"
   ]
  },
  {
   "cell_type": "code",
   "execution_count": 5,
   "metadata": {},
   "outputs": [],
   "source": [
    "# load the pdb file \n",
    "traj = md.load_pdb('comp-lab-class/Week2/Data/1UBQ_processed.pdb')"
   ]
  },
  {
   "cell_type": "code",
   "execution_count": 6,
   "metadata": {},
   "outputs": [
    {
     "name": "stdout",
     "output_type": "stream",
     "text": [
      "[[   0    3  285]\n",
      " [  36   37  254]\n",
      " [  55   56 1044]\n",
      " [  75   76  221]\n",
      " [  91   92 1077]\n",
      " [ 113  114  188]\n",
      " [ 146  147  119]\n",
      " [ 160  161  126]\n",
      " [ 203  204   90]\n",
      " [ 236  237   54]\n",
      " [ 270  271   18]\n",
      " [ 286  287  335]\n",
      " [ 326  327  300]\n",
      " [ 352  353  869]\n",
      " [ 371  372  838]\n",
      " [ 386  387  344]\n",
      " [ 386  387  351]\n",
      " [ 400  401  351]\n",
      " [ 416  417  370]\n",
      " [ 432  434  836]\n",
      " [ 438  439  385]\n",
      " [ 448  449  399]\n",
      " [ 464  466  269]\n",
      " [ 470  471  415]\n",
      " [ 489  490  437]\n",
      " [ 506  507  447]\n",
      " [ 518  519  469]\n",
      " [ 540  541  488]\n",
      " [ 555  556  505]\n",
      " [ 621  622  594]\n",
      " [ 638  639  608]\n",
      " [ 650  651  580]\n",
      " [ 650  652  437]\n",
      " [ 655  656 1129]\n",
      " [ 668  669  788]\n",
      " [ 698  699 1094]\n",
      " [ 717  718  775]\n",
      " [ 754  755  736]\n",
      " [ 793  794  697]\n",
      " [ 812  813  939]\n",
      " [ 846  847  826]\n",
      " [ 870  871  922]\n",
      " [ 884  885  337]\n",
      " [ 903  904  314]\n",
      " [ 914  915  876]\n",
      " [ 914  915  883]\n",
      " [ 926  927  902]\n",
      " [ 947  948  913]\n",
      " [ 961  962  902]\n",
      " [1019 1020   35]\n",
      " [1034 1035  996]\n",
      " [1059 1060   74]\n",
      " [1078 1079  716]\n",
      " [1095 1096  112]\n",
      " [1114 1115  678]\n",
      " [1149 1150  637]\n",
      " [1168 1169  654]]\n"
     ]
    }
   ],
   "source": [
    "# get total number of hydrogen bonds\n",
    "hbonds = md.baker_hubbard(traj)\n",
    "print(hbonds)"
   ]
  },
  {
   "cell_type": "code",
   "execution_count": 7,
   "metadata": {},
   "outputs": [
    {
     "name": "stdout",
     "output_type": "stream",
     "text": [
      "[['C' 'E' 'E' 'E' 'E' 'E' 'E' 'C' 'C' 'C' 'C' 'E' 'E' 'E' 'E' 'E' 'C' 'C'\n",
      "  'C' 'C' 'C' 'E' 'H' 'H' 'H' 'H' 'H' 'H' 'H' 'H' 'H' 'H' 'H' 'H' 'C' 'C'\n",
      "  'C' 'H' 'H' 'H' 'E' 'E' 'E' 'E' 'E' 'C' 'C' 'E' 'E' 'C' 'C' 'C' 'C' 'C'\n",
      "  'E' 'C' 'H' 'H' 'H' 'C' 'C' 'C' 'C' 'C' 'C' 'E' 'E' 'E' 'E' 'E' 'E' 'C'\n",
      "  'C' 'C' 'C' 'C' 'NA' 'NA' 'NA' 'NA' 'NA' 'NA' 'NA' 'NA' 'NA' 'NA' 'NA'\n",
      "  'NA' 'NA' 'NA' 'NA' 'NA' 'NA' 'NA' 'NA' 'NA' 'NA' 'NA' 'NA' 'NA' 'NA'\n",
      "  'NA' 'NA' 'NA' 'NA' 'NA' 'NA' 'NA' 'NA' 'NA' 'NA' 'NA' 'NA' 'NA' 'NA'\n",
      "  'NA' 'NA' 'NA' 'NA' 'NA' 'NA' 'NA' 'NA' 'NA' 'NA' 'NA' 'NA' 'NA' 'NA'\n",
      "  'NA' 'NA' 'NA' 'NA' 'NA']]\n"
     ]
    }
   ],
   "source": [
    "# compute the number of helical amino acids\n",
    "h_amino_acids = md.compute_dssp(traj, simplified=True)\n",
    "print(h_amino_acids)"
   ]
  },
  {
   "cell_type": "code",
   "execution_count": null,
   "metadata": {},
   "outputs": [],
   "source": []
  }
 ],
 "metadata": {
  "kernelspec": {
   "display_name": "lab_env",
   "language": "python",
   "name": "lab_env"
  },
  "language_info": {
   "codemirror_mode": {
    "name": "ipython",
    "version": 3
   },
   "file_extension": ".py",
   "mimetype": "text/x-python",
   "name": "python",
   "nbconvert_exporter": "python",
   "pygments_lexer": "ipython3",
   "version": "3.9.12"
  }
 },
 "nbformat": 4,
 "nbformat_minor": 4
}
