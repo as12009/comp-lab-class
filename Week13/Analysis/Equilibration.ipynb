{
 "cells": [
  {
   "cell_type": "code",
   "execution_count": 8,
   "metadata": {},
   "outputs": [],
   "source": [
    "import numpy as np\n",
    "import matplotlib.pyplot as plt"
   ]
  },
  {
   "cell_type": "code",
   "execution_count": 9,
   "metadata": {},
   "outputs": [],
   "source": [
    "datadata = np.loadtxt('/home/as12009/comp-lab-class/Week13/Outputs/NPT-1.ener')\n"
   ]
  },
  {
   "cell_type": "code",
   "execution_count": 10,
   "metadata": {},
   "outputs": [
    {
     "ename": "NameError",
     "evalue": "name 'data' is not defined",
     "output_type": "error",
     "traceback": [
      "\u001b[0;31m---------------------------------------------------------------------------\u001b[0m",
      "\u001b[0;31mNameError\u001b[0m                                 Traceback (most recent call last)",
      "Cell \u001b[0;32mIn [10], line 2\u001b[0m\n\u001b[1;32m      1\u001b[0m \u001b[38;5;66;03m#select data column for time coverting from pecoseconds to nanoseconds\u001b[39;00m\n\u001b[0;32m----> 2\u001b[0m time \u001b[38;5;241m=\u001b[39m \u001b[43mdata\u001b[49m[:,\u001b[38;5;241m0\u001b[39m]\n\u001b[1;32m      4\u001b[0m \u001b[38;5;66;03m#select data column for temperature\u001b[39;00m\n\u001b[1;32m      5\u001b[0m temp \u001b[38;5;241m=\u001b[39m data[:,\u001b[38;5;241m4\u001b[39m]\n",
      "\u001b[0;31mNameError\u001b[0m: name 'data' is not defined"
     ]
    }
   ],
   "source": [
    "#select data column for time coverting from pecoseconds to nanoseconds\n",
    "time = data[:,0]\n",
    "\n",
    "#select data column for temperature\n",
    "temp = data[:,4]\n",
    "\n",
    "#select data column for Kinetic energy\n",
    "kenergy = data[:,2]\n",
    "\n",
    "#plot data with kinetic energy on the right axis and potential energy on the left axis, labels and title\n",
    "fig, ax1 = plt.subplots()\n",
    "ax2 = ax1.twinx()\n",
    "ax1.plot(time, temp, 'b-')\n",
    "ax2.plot(time, kenergy, 'g--')\n",
    "ax1.set_xlabel('Time (ns)')\n",
    "ax1.set_ylabel('Temperature (K)', color='b')\n",
    "ax2.set_ylabel('Kinetic Energy (kJ/mol)', color='g')\n",
    "plt.title('Temperature and Kinetic Energy vs Time')\n",
    "plt.show()"
   ]
  },
  {
   "cell_type": "code",
   "execution_count": null,
   "metadata": {},
   "outputs": [],
   "source": []
  },
  {
   "cell_type": "code",
   "execution_count": null,
   "metadata": {},
   "outputs": [],
   "source": []
  }
 ],
 "metadata": {
  "kernelspec": {
   "display_name": "lab_env",
   "language": "python",
   "name": "lab_env"
  },
  "language_info": {
   "codemirror_mode": {
    "name": "ipython",
    "version": 3
   },
   "file_extension": ".py",
   "mimetype": "text/x-python",
   "name": "python",
   "nbconvert_exporter": "python",
   "pygments_lexer": "ipython3",
   "version": "3.9.12"
  }
 },
 "nbformat": 4,
 "nbformat_minor": 4
}
