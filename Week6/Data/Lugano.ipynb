{
 "cells": [
  {
   "cell_type": "code",
   "execution_count": null,
   "metadata": {},
   "outputs": [],
   "source": [
    "import sys\n",
    "import numpy as np\n",
    "import matplotlib.pyplot as plt\n",
    "\n",
    "#Read the grid file\n",
    "grid = np.genfromtxt('HILLS')\n",
    "\n",
    "#Plot the negative of the energy column\n",
    "plt.scatter(grid[:,0]/1000, grid[:,5])\n",
    "#convert the x axis from ps to ns\n",
    "\n",
    "#label the axes\n",
    "plt.xlabel('Time (ns)')\n",
    "plt.ylabel('Energy(KJ/mol)')\n",
    "plt.title('the Gaussian height of Alanine A')\n",
    "plt.show()\n",
    "#Save the plot\n",
    "plt.savefig('height_of_dialaA.png'"
   ]
  }
 ],
 "metadata": {
  "kernelspec": {
   "display_name": "Python 3",
   "language": "python",
   "name": "python3"
  },
  "language_info": {
   "codemirror_mode": {
    "name": "ipython",
    "version": 3
   },
   "file_extension": ".py",
   "mimetype": "text/x-python",
   "name": "python",
   "nbconvert_exporter": "python",
   "pygments_lexer": "ipython3",
   "version": "3.8.6"
  }
 },
 "nbformat": 4,
 "nbformat_minor": 4
}
