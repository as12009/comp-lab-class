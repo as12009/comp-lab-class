{
 "cells": [
  {
   "cell_type": "code",
   "execution_count": 22,
   "metadata": {},
   "outputs": [
    {
     "name": "stdout",
     "output_type": "stream",
     "text": [
      "CPU times: user 19 µs, sys: 2 µs, total: 21 µs\n",
      "Wall time: 23.1 µs\n"
     ]
    }
   ],
   "source": [
    "%%time\n",
    "# Ignore this block -- it's for the documentation build\n",
    "try:\n",
    "    import os, sys\n",
    "    sys.path.insert(1, os.path.abspath('/home/runner/work/psi4/psi4/code/objdir/stage//usr/local/psi4/lib/'))\n",
    "except ImportError:\n",
    "    pass\n",
    "\n",
    "# This is the important part\n",
    "import psi4"
   ]
  },
  {
   "cell_type": "code",
   "execution_count": 23,
   "metadata": {},
   "outputs": [
    {
     "name": "stdout",
     "output_type": "stream",
     "text": [
      "CPU times: user 138 µs, sys: 0 ns, total: 138 µs\n",
      "Wall time: 200 µs\n"
     ]
    }
   ],
   "source": [
    "%%time\n",
    "psi4.core.set_output_file('output.dat', False)"
   ]
  },
  {
   "cell_type": "code",
   "execution_count": 24,
   "metadata": {},
   "outputs": [
    {
     "name": "stdout",
     "output_type": "stream",
     "text": [
      "CPU times: user 282 ms, sys: 2.77 ms, total: 285 ms\n",
      "Wall time: 287 ms\n"
     ]
    },
    {
     "data": {
      "text/plain": [
       "-76.02663273509017"
      ]
     },
     "execution_count": 24,
     "metadata": {},
     "output_type": "execute_result"
    }
   ],
   "source": [
    "%%time\n",
    "#! Sample HF/cc-pVDZ H2O Computation\n",
    "\n",
    "psi4.set_memory('500 MB')\n",
    "\n",
    "h2o = psi4.geometry(\"\"\"\n",
    "O\n",
    "H 1 0.96\n",
    "H 1 0.96 2 104.5\n",
    "\"\"\")\n",
    "\n",
    "psi4.energy('scf/cc-pvdz')"
   ]
  },
  {
   "cell_type": "code",
   "execution_count": 25,
   "metadata": {},
   "outputs": [
    {
     "name": "stdout",
     "output_type": "stream",
     "text": [
      "CPU times: user 270 ms, sys: 7.85 ms, total: 278 ms\n",
      "Wall time: 283 ms\n"
     ]
    },
    {
     "data": {
      "text/plain": [
       "-38.925334628937065"
      ]
     },
     "execution_count": 25,
     "metadata": {},
     "output_type": "execute_result"
    }
   ],
   "source": [
    "%%time\n",
    "#! Sample UHF/6-31G** CH2 Computation\n",
    "\n",
    "R = 1.075\n",
    "A = 133.93\n",
    "\n",
    "ch2 = psi4.geometry(\"\"\"\n",
    "0 3\n",
    "C\n",
    "H 1 {0}\n",
    "H 1 {0} 2 {1}\n",
    "\"\"\".format(R, A)\n",
    ")\n",
    "\n",
    "psi4.set_options({'reference': 'uhf'})\n",
    "psi4.energy('scf/6-31g**')"
   ]
  },
  {
   "cell_type": "code",
   "execution_count": 26,
   "metadata": {},
   "outputs": [
    {
     "name": "stdout",
     "output_type": "stream",
     "text": [
      "Optimizer: Optimization complete!\n",
      "CPU times: user 811 ms, sys: 19.6 ms, total: 831 ms\n",
      "Wall time: 873 ms\n"
     ]
    },
    {
     "data": {
      "text/plain": [
       "-76.0270327293733"
      ]
     },
     "execution_count": 26,
     "metadata": {},
     "output_type": "execute_result"
    }
   ],
   "source": [
    "%%time\n",
    "psi4.set_options({'reference': 'rhf'})\n",
    "psi4.optimize('scf/cc-pvdz', molecule=h2o)"
   ]
  },
  {
   "cell_type": "code",
   "execution_count": 27,
   "metadata": {},
   "outputs": [
    {
     "name": "stdout",
     "output_type": "stream",
     "text": [
      "CPU times: user 955 ms, sys: 16.7 ms, total: 972 ms\n",
      "Wall time: 979 ms\n"
     ]
    }
   ],
   "source": [
    "%%time\n",
    "scf_e, scf_wfn = psi4.frequency('scf/cc-pvdz', molecule=h2o, return_wfn=True)\n"
   ]
  },
  {
   "cell_type": "code",
   "execution_count": 28,
   "metadata": {
    "scrolled": false
   },
   "outputs": [
    {
     "name": "stdout",
     "output_type": "stream",
     "text": [
      "CPU times: user 885 µs, sys: 0 ns, total: 885 µs\n",
      "Wall time: 896 µs\n"
     ]
    }
   ],
   "source": [
    "%%time\n",
    "# Example SAPT computation for ethene*ethyne (*i.e.*, ethylene*acetylene).\n",
    "# Test case 16 from S22 Database\n",
    "\n",
    "dimer = psi4.geometry(\"\"\"\n",
    "0 1\n",
    "C   0.000000  -0.667578  -2.124659\n",
    "C   0.000000   0.667578  -2.124659\n",
    "H   0.923621  -1.232253  -2.126185\n",
    "H  -0.923621  -1.232253  -2.126185\n",
    "H  -0.923621   1.232253  -2.126185\n",
    "H   0.923621   1.232253  -2.126185\n",
    "--\n",
    "0 1\n",
    "C   0.000000   0.000000   2.900503\n",
    "C   0.000000   0.000000   1.693240\n",
    "H   0.000000   0.000000   0.627352\n",
    "H   0.000000   0.000000   3.963929\n",
    "units angstrom\n",
    "\"\"\")"
   ]
  },
  {
   "cell_type": "code",
   "execution_count": 21,
   "metadata": {},
   "outputs": [
    {
     "name": "stdout",
     "output_type": "stream",
     "text": [
      "CPU times: user 3.73 s, sys: 215 ms, total: 3.95 s\n",
      "Wall time: 4.03 s\n"
     ]
    },
    {
     "data": {
      "text/plain": [
       "-0.0022355823909805178"
      ]
     },
     "execution_count": 21,
     "metadata": {},
     "output_type": "execute_result"
    }
   ],
   "source": [
    "%%time\n",
    "psi4.set_options({'scf_type': 'df',\n",
    "                  'freeze_core': 'true'})\n",
    "\n",
    "psi4.energy('sapt0/jun-cc-pvdz', molecule=dimer)"
   ]
  },
  {
   "cell_type": "code",
   "execution_count": 20,
   "metadata": {},
   "outputs": [
    {
     "name": "stdout",
     "output_type": "stream",
     "text": [
      "CP-corrected CCSD(T)/aug-cc-pVDZ Interaction Energies\n",
      "\n",
      "\n",
      "          R [Ang]                 E_int [kcal/mol]       \n",
      "---------------------------------------------------------\n",
      "            3.5                        0.169820\n",
      "            3.8                        -0.069454\n",
      "            4.0                        -0.122889\n",
      "            4.2                        -0.116450\n",
      "            4.5                        -0.095152\n",
      "            4.8                        -0.073689\n",
      "            5.0                        -0.055968\n",
      "            5.2                        -0.042323\n",
      "            5.5                        -0.032099\n",
      "            5.8                        -0.024511\n",
      "            6.0                        -0.018882\n",
      "CPU times: user 1min 2s, sys: 5.33 s, total: 1min 8s\n",
      "Wall time: 1min 9s\n"
     ]
    }
   ],
   "source": [
    "%%time\n",
    "#! Example potential energy surface scan and CP-correction for Ar2\n",
    "\n",
    "ar2_geometry = \"\"\"\n",
    "Ar\n",
    "--\n",
    "Ar 1 {0}\n",
    "\"\"\"\n",
    "\n",
    "Rvals = [3.5, 3.75, 4.0, 4.25, 4.50, 4.75, 5.0, 5.25, 5.50, 5.75, 6.0]\n",
    "\n",
    "psi4.set_options({'freeze_core': 'true'})\n",
    "\n",
    "# Initialize a blank dictionary of counterpoise corrected energies\n",
    "# (Need this for the syntax below to work)\n",
    "\n",
    "ecp = {}\n",
    "\n",
    "for R in Rvals:\n",
    "    ar2 = psi4.geometry(ar2_geometry.format(R))\n",
    "    ecp[R] = psi4.energy('ccsd(t)/aug-cc-pvdz', bsse_type='cp', molecule=ar2)\n",
    "\n",
    "# Prints to screen\n",
    "print(\"CP-corrected CCSD(T)/aug-cc-pVDZ Interaction Energies\\n\\n\")\n",
    "print(\"          R [Ang]                 E_int [kcal/mol]       \")\n",
    "print(\"---------------------------------------------------------\")\n",
    "for R in Rvals:\n",
    "    e = ecp[R] * psi4.constants.hartree2kcalmol\n",
    "    print(\"            {:3.1f}                        {:1.6f}\".format(R, e))\n",
    "\n",
    "# Prints to output.dat\n",
    "psi4.core.print_out(\"CP-corrected CCSD(T)/aug-cc-pVDZ Interaction Energies\\n\\n\")\n",
    "psi4.core.print_out(\"          R [Ang]                 E_int [kcal/mol]       \\n\")\n",
    "psi4.core.print_out(\"---------------------------------------------------------\\n\")\n",
    "for R in Rvals:\n",
    "    e = ecp[R] * psi4.constants.hartree2kcalmol\n",
    "    psi4.core.print_out(\"            {:3.1f}                        {:1.6f}\\n\".format(R, e))\n"
   ]
  },
  {
   "cell_type": "code",
   "execution_count": 38,
   "metadata": {},
   "outputs": [],
   "source": [
    "import numpy as np\n",
    "import matplotlib.pyplot as plt\n",
    "from scipy.optimize import curve_fit"
   ]
  },
  {
   "cell_type": "code",
   "execution_count": 39,
   "metadata": {},
   "outputs": [],
   "source": [
    "def lj(r,sigma,eps):\n",
    "    return 4*eps*( (sigma/r)**12-(sigma/r)**6  )"
   ]
  },
  {
   "cell_type": "code",
   "execution_count": 48,
   "metadata": {},
   "outputs": [
    {
     "ename": "ValueError",
     "evalue": "x and y must have same first dimension, but have shapes (11,) and (3,)",
     "output_type": "error",
     "traceback": [
      "\u001b[0;31m---------------------------------------------------------------------------\u001b[0m",
      "\u001b[0;31mValueError\u001b[0m                                Traceback (most recent call last)",
      "Cell \u001b[0;32mIn [48], line 3\u001b[0m\n\u001b[1;32m      1\u001b[0m xdata \u001b[38;5;241m=\u001b[39m (\u001b[38;5;241m3.5\u001b[39m, \u001b[38;5;241m3.75\u001b[39m, \u001b[38;5;241m4.0\u001b[39m, \u001b[38;5;241m4.25\u001b[39m, \u001b[38;5;241m4.50\u001b[39m, \u001b[38;5;241m4.75\u001b[39m, \u001b[38;5;241m5.0\u001b[39m, \u001b[38;5;241m5.25\u001b[39m, \u001b[38;5;241m5.50\u001b[39m, \u001b[38;5;241m5.75\u001b[39m, \u001b[38;5;241m6.0\u001b[39m)\n\u001b[1;32m      2\u001b[0m ydata\u001b[38;5;241m=\u001b[39m (\u001b[38;5;241m2.5\u001b[39m, \u001b[38;5;241m1.3\u001b[39m, \u001b[38;5;241m0.5\u001b[39m)\n\u001b[0;32m----> 3\u001b[0m \u001b[43mplt\u001b[49m\u001b[38;5;241;43m.\u001b[39;49m\u001b[43mplot\u001b[49m\u001b[43m(\u001b[49m\u001b[43mxdata\u001b[49m\u001b[43m,\u001b[49m\u001b[43m \u001b[49m\u001b[43mydata\u001b[49m\u001b[43m,\u001b[49m\u001b[43m \u001b[49m\u001b[38;5;124;43m'\u001b[39;49m\u001b[38;5;124;43mb-\u001b[39;49m\u001b[38;5;124;43m'\u001b[39;49m\u001b[43m,\u001b[49m\u001b[43m \u001b[49m\u001b[43mlabel\u001b[49m\u001b[38;5;241;43m=\u001b[39;49m\u001b[38;5;124;43m'\u001b[39;49m\u001b[38;5;124;43mdata\u001b[39;49m\u001b[38;5;124;43m'\u001b[39;49m\u001b[43m)\u001b[49m\n",
      "File \u001b[0;32m/ext3/miniconda3/lib//python3.9/site-packages/matplotlib/pyplot.py:2728\u001b[0m, in \u001b[0;36mplot\u001b[0;34m(scalex, scaley, data, *args, **kwargs)\u001b[0m\n\u001b[1;32m   2726\u001b[0m \u001b[38;5;129m@_copy_docstring_and_deprecators\u001b[39m(Axes\u001b[38;5;241m.\u001b[39mplot)\n\u001b[1;32m   2727\u001b[0m \u001b[38;5;28;01mdef\u001b[39;00m \u001b[38;5;21mplot\u001b[39m(\u001b[38;5;241m*\u001b[39margs, scalex\u001b[38;5;241m=\u001b[39m\u001b[38;5;28;01mTrue\u001b[39;00m, scaley\u001b[38;5;241m=\u001b[39m\u001b[38;5;28;01mTrue\u001b[39;00m, data\u001b[38;5;241m=\u001b[39m\u001b[38;5;28;01mNone\u001b[39;00m, \u001b[38;5;241m*\u001b[39m\u001b[38;5;241m*\u001b[39mkwargs):\n\u001b[0;32m-> 2728\u001b[0m     \u001b[38;5;28;01mreturn\u001b[39;00m \u001b[43mgca\u001b[49m\u001b[43m(\u001b[49m\u001b[43m)\u001b[49m\u001b[38;5;241;43m.\u001b[39;49m\u001b[43mplot\u001b[49m\u001b[43m(\u001b[49m\n\u001b[1;32m   2729\u001b[0m \u001b[43m        \u001b[49m\u001b[38;5;241;43m*\u001b[39;49m\u001b[43margs\u001b[49m\u001b[43m,\u001b[49m\u001b[43m \u001b[49m\u001b[43mscalex\u001b[49m\u001b[38;5;241;43m=\u001b[39;49m\u001b[43mscalex\u001b[49m\u001b[43m,\u001b[49m\u001b[43m \u001b[49m\u001b[43mscaley\u001b[49m\u001b[38;5;241;43m=\u001b[39;49m\u001b[43mscaley\u001b[49m\u001b[43m,\u001b[49m\n\u001b[1;32m   2730\u001b[0m \u001b[43m        \u001b[49m\u001b[38;5;241;43m*\u001b[39;49m\u001b[38;5;241;43m*\u001b[39;49m\u001b[43m(\u001b[49m\u001b[43m{\u001b[49m\u001b[38;5;124;43m\"\u001b[39;49m\u001b[38;5;124;43mdata\u001b[39;49m\u001b[38;5;124;43m\"\u001b[39;49m\u001b[43m:\u001b[49m\u001b[43m \u001b[49m\u001b[43mdata\u001b[49m\u001b[43m}\u001b[49m\u001b[43m \u001b[49m\u001b[38;5;28;43;01mif\u001b[39;49;00m\u001b[43m \u001b[49m\u001b[43mdata\u001b[49m\u001b[43m \u001b[49m\u001b[38;5;129;43;01mis\u001b[39;49;00m\u001b[43m \u001b[49m\u001b[38;5;129;43;01mnot\u001b[39;49;00m\u001b[43m \u001b[49m\u001b[38;5;28;43;01mNone\u001b[39;49;00m\u001b[43m \u001b[49m\u001b[38;5;28;43;01melse\u001b[39;49;00m\u001b[43m \u001b[49m\u001b[43m{\u001b[49m\u001b[43m}\u001b[49m\u001b[43m)\u001b[49m\u001b[43m,\u001b[49m\u001b[43m \u001b[49m\u001b[38;5;241;43m*\u001b[39;49m\u001b[38;5;241;43m*\u001b[39;49m\u001b[43mkwargs\u001b[49m\u001b[43m)\u001b[49m\n",
      "File \u001b[0;32m/ext3/miniconda3/lib//python3.9/site-packages/matplotlib/axes/_axes.py:1662\u001b[0m, in \u001b[0;36mAxes.plot\u001b[0;34m(self, scalex, scaley, data, *args, **kwargs)\u001b[0m\n\u001b[1;32m   1419\u001b[0m \u001b[38;5;124;03m\"\"\"\u001b[39;00m\n\u001b[1;32m   1420\u001b[0m \u001b[38;5;124;03mPlot y versus x as lines and/or markers.\u001b[39;00m\n\u001b[1;32m   1421\u001b[0m \n\u001b[0;32m   (...)\u001b[0m\n\u001b[1;32m   1659\u001b[0m \u001b[38;5;124;03m(``'green'``) or hex strings (``'#008000'``).\u001b[39;00m\n\u001b[1;32m   1660\u001b[0m \u001b[38;5;124;03m\"\"\"\u001b[39;00m\n\u001b[1;32m   1661\u001b[0m kwargs \u001b[38;5;241m=\u001b[39m cbook\u001b[38;5;241m.\u001b[39mnormalize_kwargs(kwargs, mlines\u001b[38;5;241m.\u001b[39mLine2D)\n\u001b[0;32m-> 1662\u001b[0m lines \u001b[38;5;241m=\u001b[39m [\u001b[38;5;241m*\u001b[39m\u001b[38;5;28mself\u001b[39m\u001b[38;5;241m.\u001b[39m_get_lines(\u001b[38;5;241m*\u001b[39margs, data\u001b[38;5;241m=\u001b[39mdata, \u001b[38;5;241m*\u001b[39m\u001b[38;5;241m*\u001b[39mkwargs)]\n\u001b[1;32m   1663\u001b[0m \u001b[38;5;28;01mfor\u001b[39;00m line \u001b[38;5;129;01min\u001b[39;00m lines:\n\u001b[1;32m   1664\u001b[0m     \u001b[38;5;28mself\u001b[39m\u001b[38;5;241m.\u001b[39madd_line(line)\n",
      "File \u001b[0;32m/ext3/miniconda3/lib//python3.9/site-packages/matplotlib/axes/_base.py:311\u001b[0m, in \u001b[0;36m_process_plot_var_args.__call__\u001b[0;34m(self, data, *args, **kwargs)\u001b[0m\n\u001b[1;32m    309\u001b[0m     this \u001b[38;5;241m+\u001b[39m\u001b[38;5;241m=\u001b[39m args[\u001b[38;5;241m0\u001b[39m],\n\u001b[1;32m    310\u001b[0m     args \u001b[38;5;241m=\u001b[39m args[\u001b[38;5;241m1\u001b[39m:]\n\u001b[0;32m--> 311\u001b[0m \u001b[38;5;28;01myield from\u001b[39;00m \u001b[38;5;28;43mself\u001b[39;49m\u001b[38;5;241;43m.\u001b[39;49m\u001b[43m_plot_args\u001b[49m\u001b[43m(\u001b[49m\n\u001b[1;32m    312\u001b[0m \u001b[43m    \u001b[49m\u001b[43mthis\u001b[49m\u001b[43m,\u001b[49m\u001b[43m \u001b[49m\u001b[43mkwargs\u001b[49m\u001b[43m,\u001b[49m\u001b[43m \u001b[49m\u001b[43mambiguous_fmt_datakey\u001b[49m\u001b[38;5;241;43m=\u001b[39;49m\u001b[43mambiguous_fmt_datakey\u001b[49m\u001b[43m)\u001b[49m\n",
      "File \u001b[0;32m/ext3/miniconda3/lib//python3.9/site-packages/matplotlib/axes/_base.py:504\u001b[0m, in \u001b[0;36m_process_plot_var_args._plot_args\u001b[0;34m(self, tup, kwargs, return_kwargs, ambiguous_fmt_datakey)\u001b[0m\n\u001b[1;32m    501\u001b[0m     \u001b[38;5;28mself\u001b[39m\u001b[38;5;241m.\u001b[39maxes\u001b[38;5;241m.\u001b[39myaxis\u001b[38;5;241m.\u001b[39mupdate_units(y)\n\u001b[1;32m    503\u001b[0m \u001b[38;5;28;01mif\u001b[39;00m x\u001b[38;5;241m.\u001b[39mshape[\u001b[38;5;241m0\u001b[39m] \u001b[38;5;241m!=\u001b[39m y\u001b[38;5;241m.\u001b[39mshape[\u001b[38;5;241m0\u001b[39m]:\n\u001b[0;32m--> 504\u001b[0m     \u001b[38;5;28;01mraise\u001b[39;00m \u001b[38;5;167;01mValueError\u001b[39;00m(\u001b[38;5;124mf\u001b[39m\u001b[38;5;124m\"\u001b[39m\u001b[38;5;124mx and y must have same first dimension, but \u001b[39m\u001b[38;5;124m\"\u001b[39m\n\u001b[1;32m    505\u001b[0m                      \u001b[38;5;124mf\u001b[39m\u001b[38;5;124m\"\u001b[39m\u001b[38;5;124mhave shapes \u001b[39m\u001b[38;5;132;01m{\u001b[39;00mx\u001b[38;5;241m.\u001b[39mshape\u001b[38;5;132;01m}\u001b[39;00m\u001b[38;5;124m and \u001b[39m\u001b[38;5;132;01m{\u001b[39;00my\u001b[38;5;241m.\u001b[39mshape\u001b[38;5;132;01m}\u001b[39;00m\u001b[38;5;124m\"\u001b[39m)\n\u001b[1;32m    506\u001b[0m \u001b[38;5;28;01mif\u001b[39;00m x\u001b[38;5;241m.\u001b[39mndim \u001b[38;5;241m>\u001b[39m \u001b[38;5;241m2\u001b[39m \u001b[38;5;129;01mor\u001b[39;00m y\u001b[38;5;241m.\u001b[39mndim \u001b[38;5;241m>\u001b[39m \u001b[38;5;241m2\u001b[39m:\n\u001b[1;32m    507\u001b[0m     \u001b[38;5;28;01mraise\u001b[39;00m \u001b[38;5;167;01mValueError\u001b[39;00m(\u001b[38;5;124mf\u001b[39m\u001b[38;5;124m\"\u001b[39m\u001b[38;5;124mx and y can be no greater than 2D, but have \u001b[39m\u001b[38;5;124m\"\u001b[39m\n\u001b[1;32m    508\u001b[0m                      \u001b[38;5;124mf\u001b[39m\u001b[38;5;124m\"\u001b[39m\u001b[38;5;124mshapes \u001b[39m\u001b[38;5;132;01m{\u001b[39;00mx\u001b[38;5;241m.\u001b[39mshape\u001b[38;5;132;01m}\u001b[39;00m\u001b[38;5;124m and \u001b[39m\u001b[38;5;132;01m{\u001b[39;00my\u001b[38;5;241m.\u001b[39mshape\u001b[38;5;132;01m}\u001b[39;00m\u001b[38;5;124m\"\u001b[39m)\n",
      "\u001b[0;31mValueError\u001b[0m: x and y must have same first dimension, but have shapes (11,) and (3,)"
     ]
    },
    {
     "data": {
      "image/png": "[encoded data removed]",
      "text/plain": [
       "<Figure size 640x480 with 1 Axes>"
      ]
     },
     "metadata": {},
     "output_type": "display_data"
    }
   ],
   "source": [
    "xdata = (3.5, 3.75, 4.0, 4.25, 4.50, 4.75, 5.0, 5.25, 5.50, 5.75, 6.0)\n",
    "ydata= (2.5, 1.3, 0.5)\n",
    "plt.plot(xdata, ydata, 'b-', label='data')"
   ]
  },
  {
   "cell_type": "code",
   "execution_count": null,
   "metadata": {},
   "outputs": [],
   "source": []
  }
 ],
 "metadata": {
  "kernelspec": {
   "display_name": "lab_env",
   "language": "python",
   "name": "lab_env"
  },
  "language_info": {
   "codemirror_mode": {
    "name": "ipython",
    "version": 3
   },
   "file_extension": ".py",
   "mimetype": "text/x-python",
   "name": "python",
   "nbconvert_exporter": "python",
   "pygments_lexer": "ipython3",
   "version": "3.9.12"
  }
 },
 "nbformat": 4,
 "nbformat_minor": 4
}
