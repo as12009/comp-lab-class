{
 "cells": [
  {
   "cell_type": "code",
   "execution_count": 3,
   "metadata": {},
   "outputs": [
    {
     "name": "stderr",
     "output_type": "stream",
     "text": [
      "/ext3/miniconda3/lib/python3.9/site-packages/tqdm/auto.py:22: TqdmWarning: IProgress not found. Please update jupyter and ipywidgets. See https://ipywidgets.readthedocs.io/en/stable/user_install.html\n",
      "  from .autonotebook import tqdm as notebook_tqdm\n"
     ]
    }
   ],
   "source": [
    "import MDAnalysis as mda\n",
    "import MDAnalysis.analysis.msd as msd\n",
    "import MDAnalysis.analysis.rdf as rdf\n",
    "import numpy as np\n",
    "import matplotlib.pyplot as plt\n",
    "import os"
   ]
  },
  {
   "cell_type": "code",
   "execution_count": 13,
   "metadata": {},
   "outputs": [],
   "source": []
  },
  {
   "cell_type": "code",
   "execution_count": 18,
   "metadata": {},
   "outputs": [],
   "source": [
    "topology = \"/home/as12009/comp-lab-class/Week9/Data/equil/kalj_T0.45_n360_v300_100000000_1.lammpstrj\"\n",
    "\n",
    "trajectories= [\"/home/as12009/comp-lab-class/Week9/Data/prod/kalj_T0.45_n360_v300_prod_100000000_1.unwrap (1).dcd\",\"/home/as12009/comp-lab-class/Week9/Data/prod/kalj_T0.475_n360_v300_prod_100000000_1.unwrap (1).dcd\",\"/home/as12009/comp-lab-class/Week9/Data/prod/kalj_T0.5_n360_v300_prod_100000000_1.unwrap (1).dcd\",\"/home/as12009/comp-lab-class/Week9/Data/prod/kalj_T0.55_n360_v300_prod_100000000_1.unwrap (1).dcd\",\"/home/as12009/comp-lab-class/Week9/Data/prod/kalj_T0.6_n360_v300_prod_100000000_1.unwrap (1).dcd\",\"/home/as12009/comp-lab-class/Week9/Data/prod/kalj_T0.65_n360_v300_prod_100000000_1.unwrap (1).dcd\",\"/home/as12009/comp-lab-class/Week9/Data/prod/kalj_T0.7_n360_v300_prod_100000000_1.unwrap (1).dcd\"]\n",
    "\n",
    "temps = [0.45, 0.475, 0.5, 0.55, 0.6, 0.65, 0.7, 0.8, 0.9, 1.0, 1.5]"
   ]
  },
  {
   "cell_type": "code",
   "execution_count": 19,
   "metadata": {},
   "outputs": [
    {
     "ename": "OSError",
     "evalue": "DCD file does not exist",
     "output_type": "error",
     "traceback": [
      "\u001b[0;31m---------------------------------------------------------------------------\u001b[0m",
      "\u001b[0;31mOSError\u001b[0m                                   Traceback (most recent call last)",
      "Cell \u001b[0;32mIn [19], line 4\u001b[0m\n\u001b[1;32m      1\u001b[0m rdfs11 \u001b[38;5;241m=\u001b[39m []\n\u001b[1;32m      3\u001b[0m \u001b[38;5;28;01mfor\u001b[39;00m i \u001b[38;5;129;01min\u001b[39;00m trajectories: \n\u001b[0;32m----> 4\u001b[0m     u \u001b[38;5;241m=\u001b[39m \u001b[43mmda\u001b[49m\u001b[38;5;241;43m.\u001b[39;49m\u001b[43mUniverse\u001b[49m\u001b[43m(\u001b[49m\u001b[43mtopology\u001b[49m\u001b[43m,\u001b[49m\u001b[43m \u001b[49m\u001b[43mi\u001b[49m\u001b[43m,\u001b[49m\u001b[43m \u001b[49m\u001b[43mtopology_format\u001b[49m\u001b[43m \u001b[49m\u001b[38;5;241;43m=\u001b[39;49m\u001b[43m \u001b[49m\u001b[38;5;124;43m'\u001b[39;49m\u001b[38;5;124;43mLAMMPSDUMP\u001b[39;49m\u001b[38;5;124;43m'\u001b[39;49m\u001b[43m)\u001b[49m\n\u001b[1;32m      6\u001b[0m     type1a \u001b[38;5;241m=\u001b[39m u\u001b[38;5;241m.\u001b[39mselect_atoms(\u001b[38;5;124m'\u001b[39m\u001b[38;5;124mtype 1\u001b[39m\u001b[38;5;124m'\u001b[39m)\n\u001b[1;32m      7\u001b[0m     type1b \u001b[38;5;241m=\u001b[39m u\u001b[38;5;241m.\u001b[39mselect_atoms(\u001b[38;5;124m'\u001b[39m\u001b[38;5;124mtype 1\u001b[39m\u001b[38;5;124m'\u001b[39m)\n",
      "File \u001b[0;32m/ext3/miniconda3/lib/python3.9/site-packages/MDAnalysis/core/universe.py:365\u001b[0m, in \u001b[0;36mUniverse.__init__\u001b[0;34m(self, topology, all_coordinates, format, topology_format, transformations, guess_bonds, vdwradii, in_memory, in_memory_step, *coordinates, **kwargs)\u001b[0m\n\u001b[1;32m    360\u001b[0m coordinates \u001b[38;5;241m=\u001b[39m _resolve_coordinates(\u001b[38;5;28mself\u001b[39m\u001b[38;5;241m.\u001b[39mfilename, \u001b[38;5;241m*\u001b[39mcoordinates,\n\u001b[1;32m    361\u001b[0m                                    \u001b[38;5;28mformat\u001b[39m\u001b[38;5;241m=\u001b[39m\u001b[38;5;28mformat\u001b[39m,\n\u001b[1;32m    362\u001b[0m                                    all_coordinates\u001b[38;5;241m=\u001b[39mall_coordinates)\n\u001b[1;32m    364\u001b[0m \u001b[38;5;28;01mif\u001b[39;00m coordinates:\n\u001b[0;32m--> 365\u001b[0m     \u001b[38;5;28;43mself\u001b[39;49m\u001b[38;5;241;43m.\u001b[39;49m\u001b[43mload_new\u001b[49m\u001b[43m(\u001b[49m\u001b[43mcoordinates\u001b[49m\u001b[43m,\u001b[49m\u001b[43m \u001b[49m\u001b[38;5;28;43mformat\u001b[39;49m\u001b[38;5;241;43m=\u001b[39;49m\u001b[38;5;28;43mformat\u001b[39;49m\u001b[43m,\u001b[49m\u001b[43m \u001b[49m\u001b[43min_memory\u001b[49m\u001b[38;5;241;43m=\u001b[39;49m\u001b[43min_memory\u001b[49m\u001b[43m,\u001b[49m\n\u001b[1;32m    366\u001b[0m \u001b[43m                \u001b[49m\u001b[43min_memory_step\u001b[49m\u001b[38;5;241;43m=\u001b[39;49m\u001b[43min_memory_step\u001b[49m\u001b[43m,\u001b[49m\u001b[43m \u001b[49m\u001b[38;5;241;43m*\u001b[39;49m\u001b[38;5;241;43m*\u001b[39;49m\u001b[43mkwargs\u001b[49m\u001b[43m)\u001b[49m\n\u001b[1;32m    368\u001b[0m \u001b[38;5;28;01mif\u001b[39;00m transformations:\n\u001b[1;32m    369\u001b[0m     \u001b[38;5;28;01mif\u001b[39;00m callable(transformations):\n",
      "File \u001b[0;32m/ext3/miniconda3/lib/python3.9/site-packages/MDAnalysis/core/universe.py:565\u001b[0m, in \u001b[0;36mUniverse.load_new\u001b[0;34m(self, filename, format, in_memory, in_memory_step, **kwargs)\u001b[0m\n\u001b[1;32m    562\u001b[0m \u001b[38;5;66;03m# supply number of atoms for readers that cannot do it for themselves\u001b[39;00m\n\u001b[1;32m    563\u001b[0m kwargs[\u001b[38;5;124m'\u001b[39m\u001b[38;5;124mn_atoms\u001b[39m\u001b[38;5;124m'\u001b[39m] \u001b[38;5;241m=\u001b[39m \u001b[38;5;28mself\u001b[39m\u001b[38;5;241m.\u001b[39matoms\u001b[38;5;241m.\u001b[39mn_atoms\n\u001b[0;32m--> 565\u001b[0m \u001b[38;5;28mself\u001b[39m\u001b[38;5;241m.\u001b[39mtrajectory \u001b[38;5;241m=\u001b[39m \u001b[43mreader\u001b[49m\u001b[43m(\u001b[49m\u001b[43mfilename\u001b[49m\u001b[43m,\u001b[49m\u001b[43m \u001b[49m\u001b[38;5;28;43mformat\u001b[39;49m\u001b[38;5;241;43m=\u001b[39;49m\u001b[38;5;28;43mformat\u001b[39;49m\u001b[43m,\u001b[49m\u001b[43m \u001b[49m\u001b[38;5;241;43m*\u001b[39;49m\u001b[38;5;241;43m*\u001b[39;49m\u001b[43mkwargs\u001b[49m\u001b[43m)\u001b[49m\n\u001b[1;32m    566\u001b[0m \u001b[38;5;28;01mif\u001b[39;00m \u001b[38;5;28mself\u001b[39m\u001b[38;5;241m.\u001b[39mtrajectory\u001b[38;5;241m.\u001b[39mn_atoms \u001b[38;5;241m!=\u001b[39m \u001b[38;5;28mlen\u001b[39m(\u001b[38;5;28mself\u001b[39m\u001b[38;5;241m.\u001b[39matoms):\n\u001b[1;32m    567\u001b[0m     \u001b[38;5;28;01mraise\u001b[39;00m \u001b[38;5;167;01mValueError\u001b[39;00m(\u001b[38;5;124m\"\u001b[39m\u001b[38;5;124mThe topology and \u001b[39m\u001b[38;5;132;01m{form}\u001b[39;00m\u001b[38;5;124m trajectory files don\u001b[39m\u001b[38;5;124m'\u001b[39m\u001b[38;5;124mt\u001b[39m\u001b[38;5;124m\"\u001b[39m\n\u001b[1;32m    568\u001b[0m                      \u001b[38;5;124m\"\u001b[39m\u001b[38;5;124m have the same number of atoms!\u001b[39m\u001b[38;5;130;01m\\n\u001b[39;00m\u001b[38;5;124m\"\u001b[39m\n\u001b[1;32m    569\u001b[0m                      \u001b[38;5;124m\"\u001b[39m\u001b[38;5;124mTopology number of atoms \u001b[39m\u001b[38;5;132;01m{top_n_atoms}\u001b[39;00m\u001b[38;5;130;01m\\n\u001b[39;00m\u001b[38;5;124m\"\u001b[39m\n\u001b[0;32m   (...)\u001b[0m\n\u001b[1;32m    573\u001b[0m                          fname\u001b[38;5;241m=\u001b[39mfilename,\n\u001b[1;32m    574\u001b[0m                          trj_n_atoms\u001b[38;5;241m=\u001b[39m\u001b[38;5;28mself\u001b[39m\u001b[38;5;241m.\u001b[39mtrajectory\u001b[38;5;241m.\u001b[39mn_atoms))\n",
      "File \u001b[0;32m/ext3/miniconda3/lib/python3.9/site-packages/MDAnalysis/lib/util.py:2495\u001b[0m, in \u001b[0;36mstore_init_arguments.<locals>.wrapper\u001b[0;34m(self, *args, **kwargs)\u001b[0m\n\u001b[1;32m   2493\u001b[0m             \u001b[38;5;28;01melse\u001b[39;00m:\n\u001b[1;32m   2494\u001b[0m                 \u001b[38;5;28mself\u001b[39m\u001b[38;5;241m.\u001b[39m_kwargs[key] \u001b[38;5;241m=\u001b[39m arg\n\u001b[0;32m-> 2495\u001b[0m \u001b[38;5;28;01mreturn\u001b[39;00m \u001b[43mfunc\u001b[49m\u001b[43m(\u001b[49m\u001b[38;5;28;43mself\u001b[39;49m\u001b[43m,\u001b[49m\u001b[43m \u001b[49m\u001b[38;5;241;43m*\u001b[39;49m\u001b[43margs\u001b[49m\u001b[43m,\u001b[49m\u001b[43m \u001b[49m\u001b[38;5;241;43m*\u001b[39;49m\u001b[38;5;241;43m*\u001b[39;49m\u001b[43mkwargs\u001b[49m\u001b[43m)\u001b[49m\n",
      "File \u001b[0;32m/ext3/miniconda3/lib/python3.9/site-packages/MDAnalysis/coordinates/DCD.py:137\u001b[0m, in \u001b[0;36mDCDReader.__init__\u001b[0;34m(self, filename, convert_units, dt, **kwargs)\u001b[0m\n\u001b[1;32m    119\u001b[0m \u001b[38;5;124;03m\"\"\"\u001b[39;00m\n\u001b[1;32m    120\u001b[0m \u001b[38;5;124;03mParameters\u001b[39;00m\n\u001b[1;32m    121\u001b[0m \u001b[38;5;124;03m----------\u001b[39;00m\n\u001b[0;32m   (...)\u001b[0m\n\u001b[1;32m    133\u001b[0m \u001b[38;5;124;03m   Changed to use libdcd.pyx library and removed the correl function\u001b[39;00m\n\u001b[1;32m    134\u001b[0m \u001b[38;5;124;03m\"\"\"\u001b[39;00m\n\u001b[1;32m    135\u001b[0m \u001b[38;5;28msuper\u001b[39m(DCDReader, \u001b[38;5;28mself\u001b[39m)\u001b[38;5;241m.\u001b[39m\u001b[38;5;21m__init__\u001b[39m(\n\u001b[1;32m    136\u001b[0m     filename, convert_units\u001b[38;5;241m=\u001b[39mconvert_units, \u001b[38;5;241m*\u001b[39m\u001b[38;5;241m*\u001b[39mkwargs)\n\u001b[0;32m--> 137\u001b[0m \u001b[38;5;28mself\u001b[39m\u001b[38;5;241m.\u001b[39m_file \u001b[38;5;241m=\u001b[39m \u001b[43mDCDFile\u001b[49m\u001b[43m(\u001b[49m\u001b[38;5;28;43mself\u001b[39;49m\u001b[38;5;241;43m.\u001b[39;49m\u001b[43mfilename\u001b[49m\u001b[43m)\u001b[49m\n\u001b[1;32m    138\u001b[0m \u001b[38;5;28mself\u001b[39m\u001b[38;5;241m.\u001b[39mn_atoms \u001b[38;5;241m=\u001b[39m \u001b[38;5;28mself\u001b[39m\u001b[38;5;241m.\u001b[39m_file\u001b[38;5;241m.\u001b[39mheader[\u001b[38;5;124m'\u001b[39m\u001b[38;5;124mnatoms\u001b[39m\u001b[38;5;124m'\u001b[39m]\n\u001b[1;32m    140\u001b[0m delta \u001b[38;5;241m=\u001b[39m mdaunits\u001b[38;5;241m.\u001b[39mconvert(\u001b[38;5;28mself\u001b[39m\u001b[38;5;241m.\u001b[39m_file\u001b[38;5;241m.\u001b[39mheader[\u001b[38;5;124m'\u001b[39m\u001b[38;5;124mdelta\u001b[39m\u001b[38;5;124m'\u001b[39m],\n\u001b[1;32m    141\u001b[0m                          \u001b[38;5;28mself\u001b[39m\u001b[38;5;241m.\u001b[39munits[\u001b[38;5;124m'\u001b[39m\u001b[38;5;124mtime\u001b[39m\u001b[38;5;124m'\u001b[39m], \u001b[38;5;124m'\u001b[39m\u001b[38;5;124mps\u001b[39m\u001b[38;5;124m'\u001b[39m)\n",
      "File \u001b[0;32mMDAnalysis/lib/formats/libdcd.pyx:220\u001b[0m, in \u001b[0;36mMDAnalysis.lib.formats.libdcd.DCDFile.__cinit__\u001b[0;34m()\u001b[0m\n",
      "File \u001b[0;32mMDAnalysis/lib/formats/libdcd.pyx:307\u001b[0m, in \u001b[0;36mMDAnalysis.lib.formats.libdcd.DCDFile.open\u001b[0;34m()\u001b[0m\n",
      "\u001b[0;31mOSError\u001b[0m: DCD file does not exist"
     ]
    }
   ],
   "source": [
    "rdfs11 = []\n",
    "\n",
    "for i in trajectories: \n",
    "    u = mda.Universe(topology, i, topology_format = 'LAMMPSDUMP')\n",
    "    \n",
    "    type1a = u.select_atoms('type 1')\n",
    "    type1b = u.select_atoms('type 1')\n",
    "    \n",
    "    RDF11 = rdf.InterRDF(type1a, type1b, nbins=100, range=(0.0, 8.0))\n",
    "    RDF11.run()\n",
    "    \n",
    "    rdfs11.append([RDF11.results.bins, RDF11.results.rdf])\n",
    "\n",
    "for i, (x, y) in enumerate(rdfs11):\n",
    "    plt.plot(x, y, label=f'{temps[i]}')\n",
    "\n",
    "plt.legend()\n",
    "plt.xlabel('r')\n",
    "plt.ylabel('g(r)')\n",
    "plt.title('g_11(r)')\n",
    "plt.savefig('/home/as12009/comp-lab-class/Week9/Figures/g_11(r).png')\n",
    "plt.show()"
   ]
  },
  {
   "cell_type": "code",
   "execution_count": null,
   "metadata": {},
   "outputs": [],
   "source": []
  }
 ],
 "metadata": {
  "kernelspec": {
   "display_name": "lab_env",
   "language": "python",
   "name": "lab_env"
  },
  "language_info": {
   "codemirror_mode": {
    "name": "ipython",
    "version": 3
   },
   "file_extension": ".py",
   "mimetype": "text/x-python",
   "name": "python",
   "nbconvert_exporter": "python",
   "pygments_lexer": "ipython3",
   "version": "3.9.12"
  }
 },
 "nbformat": 4,
 "nbformat_minor": 4
}
